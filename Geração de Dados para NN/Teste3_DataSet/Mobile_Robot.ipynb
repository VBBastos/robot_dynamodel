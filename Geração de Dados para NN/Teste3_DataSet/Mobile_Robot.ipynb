{
 "cells": [
  {
   "cell_type": "markdown",
   "metadata": {},
   "source": [
    "# Mobile Robot (Syndi - Matlab)"
   ]
  },
  {
   "cell_type": "markdown",
   "metadata": {},
   "source": [
    "### created by Vinicius, 16/07/2019"
   ]
  },
  {
   "cell_type": "markdown",
   "metadata": {},
   "source": [
    "##### Import modules"
   ]
  },
  {
   "cell_type": "code",
   "execution_count": 1,
   "metadata": {},
   "outputs": [],
   "source": [
    "import os\n",
    "import sys\n",
    "module_path = os.path.abspath(os.path.join('..'))\n",
    "if module_path not in sys.path:\n",
    "    sys.path.append(module_path)"
   ]
  },
  {
   "cell_type": "code",
   "execution_count": 2,
   "metadata": {},
   "outputs": [],
   "source": [
    "from pySINDy.sindy import SINDy\n",
    "import numpy as np\n",
    "import matplotlib.pyplot as plt\n",
    "from pySINDy.utils.generator import van_der_pol_generator\n",
    "import scipy.io"
   ]
  },
  {
   "cell_type": "markdown",
   "metadata": {},
   "source": [
    "##### Load data created by Matlab"
   ]
  },
  {
   "cell_type": "code",
   "execution_count": 3,
   "metadata": {},
   "outputs": [],
   "source": [
    "mat = scipy.io.loadmat('data.mat')\n",
    "datau = mat.get('ures')\n",
    "dataw = mat.get('wres')\n",
    "datauref = mat.get('urefres')\n",
    "datawref = mat.get( 'wrefres')"
   ]
  },
  {
   "cell_type": "code",
   "execution_count": 4,
   "metadata": {},
   "outputs": [],
   "source": [
    "data_total=np.concatenate((datau, dataw,datauref, datawref))"
   ]
  },
  {
   "cell_type": "code",
   "execution_count": 5,
   "metadata": {},
   "outputs": [
    {
     "data": {
      "text/plain": [
       "(4, 15651)"
      ]
     },
     "execution_count": 5,
     "metadata": {},
     "output_type": "execute_result"
    }
   ],
   "source": [
    "np.shape(data_total)"
   ]
  },
  {
   "cell_type": "code",
   "execution_count": 6,
   "metadata": {},
   "outputs": [],
   "source": [
    "model1 = SINDy(name='my_test_model1')"
   ]
  },
  {
   "cell_type": "code",
   "execution_count": 28,
   "metadata": {},
   "outputs": [
    {
     "data": {
      "text/plain": [
       "<pySINDy.sindy.SINDy at 0x1fc6608e2b0>"
      ]
     },
     "execution_count": 28,
     "metadata": {},
     "output_type": "execute_result"
    }
   ],
   "source": [
    "dt = 0.1\n",
    "model1.fit(data_total, dt, poly_degree=2, cut_off=0.1)"
   ]
  },
  {
   "cell_type": "code",
   "execution_count": 29,
   "metadata": {},
   "outputs": [
    {
     "data": {
      "text/plain": [
       "['1',\n",
       " 'u0',\n",
       " 'u1',\n",
       " 'u2',\n",
       " 'u3',\n",
       " 'u0^{2}',\n",
       " 'u0u1',\n",
       " 'u1^{2}',\n",
       " 'u0u2',\n",
       " 'u1u2',\n",
       " 'u2^{2}',\n",
       " 'u0u3',\n",
       " 'u1u3',\n",
       " 'u2u3',\n",
       " 'u3^{2}']"
      ]
     },
     "execution_count": 29,
     "metadata": {},
     "output_type": "execute_result"
    }
   ],
   "source": [
    "model1.descriptions"
   ]
  },
  {
   "cell_type": "code",
   "execution_count": 30,
   "metadata": {},
   "outputs": [
    {
     "data": {
      "image/png": "[encoded data removed]",
      "text/plain": [
       "<Figure size 3200x400 with 4 Axes>"
      ]
     },
     "metadata": {},
     "output_type": "display_data"
    }
   ],
   "source": [
    "model1.plot_coefficients"
   ]
  },
  {
   "cell_type": "code",
   "execution_count": 31,
   "metadata": {
    "scrolled": true
   },
   "outputs": [
    {
     "data": {
      "text/plain": [
       "array([[ 0.        ,  0.        ,  0.        ,  0.        ],\n",
       "       [-3.54276788,  0.        , -3.41545629,  0.        ],\n",
       "       [ 0.        , -2.73165688,  0.        , -3.55926029],\n",
       "       [ 3.63719855,  0.        ,  3.29583016,  0.        ],\n",
       "       [ 0.        ,  2.69672038,  0.        ,  2.64962331],\n",
       "       [ 1.1552429 ,  0.        ,  1.78295883, -0.94001563],\n",
       "       [ 0.        , -0.71373117, -2.18350641,  0.        ],\n",
       "       [ 0.        ,  0.        ,  0.        ,  0.        ],\n",
       "       [ 0.        ,  0.        , -1.55582279,  1.69947737],\n",
       "       [ 0.        ,  0.93164479,  2.14549132, -0.95202043],\n",
       "       [-1.31895036,  0.        ,  0.        , -0.71914137],\n",
       "       [ 0.        ,  0.        ,  1.445174  ,  0.        ],\n",
       "       [ 0.        ,  0.        ,  0.        , -1.47217603],\n",
       "       [ 0.        ,  0.        , -1.44372139,  0.        ],\n",
       "       [ 0.        ,  0.        ,  0.        ,  0.82193704]])"
      ]
     },
     "execution_count": 31,
     "metadata": {},
     "output_type": "execute_result"
    }
   ],
   "source": [
    "model1.coefficients"
   ]
  },
  {
   "cell_type": "code",
   "execution_count": null,
   "metadata": {},
   "outputs": [],
   "source": []
  },
  {
   "cell_type": "code",
   "execution_count": null,
   "metadata": {},
   "outputs": [],
   "source": []
  }
 ],
 "metadata": {
  "kernelspec": {
   "display_name": "Python 3",
   "language": "python",
   "name": "python3"
  },
  "language_info": {
   "codemirror_mode": {
    "name": "ipython",
    "version": 3
   },
   "file_extension": ".py",
   "mimetype": "text/x-python",
   "name": "python",
   "nbconvert_exporter": "python",
   "pygments_lexer": "ipython3",
   "version": "3.7.3"
  }
 },
 "nbformat": 4,
 "nbformat_minor": 2
}
