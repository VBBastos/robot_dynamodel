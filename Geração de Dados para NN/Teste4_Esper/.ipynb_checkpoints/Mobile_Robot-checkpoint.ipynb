{
 "cells": [
  {
   "cell_type": "markdown",
   "metadata": {},
   "source": [
    "# Mobile Robot (Syndi - Matlab)"
   ]
  },
  {
   "cell_type": "markdown",
   "metadata": {},
   "source": [
    "### created by Vinicius, 16/07/2019"
   ]
  },
  {
   "cell_type": "markdown",
   "metadata": {},
   "source": [
    "##### Import modules"
   ]
  },
  {
   "cell_type": "code",
   "execution_count": 1,
   "metadata": {},
   "outputs": [],
   "source": [
    "import os\n",
    "import sys\n",
    "module_path = os.path.abspath(os.path.join('..'))\n",
    "if module_path not in sys.path:\n",
    "    sys.path.append(module_path)"
   ]
  },
  {
   "cell_type": "code",
   "execution_count": 2,
   "metadata": {},
   "outputs": [],
   "source": [
    "from pySINDy.sindy import SINDy\n",
    "import numpy as np\n",
    "import matplotlib.pyplot as plt\n",
    "import scipy.io"
   ]
  },
  {
   "cell_type": "markdown",
   "metadata": {},
   "source": [
    "##### Load data created by Matlab"
   ]
  },
  {
   "cell_type": "code",
   "execution_count": 3,
   "metadata": {},
   "outputs": [],
   "source": [
    "mat = scipy.io.loadmat('data.mat')\n",
    "datau = mat.get('ures')\n",
    "dataw = mat.get('wres')\n",
    "datauref = mat.get('urefres')\n",
    "datawref = mat.get( 'wrefres')"
   ]
  },
  {
   "cell_type": "code",
   "execution_count": 4,
   "metadata": {},
   "outputs": [],
   "source": [
    "data_total=np.concatenate((datau, dataw,datauref, datawref))"
   ]
  },
  {
   "cell_type": "code",
   "execution_count": 5,
   "metadata": {},
   "outputs": [
    {
     "data": {
      "text/plain": [
       "(4, 941)"
      ]
     },
     "execution_count": 5,
     "metadata": {},
     "output_type": "execute_result"
    }
   ],
   "source": [
    "np.shape(data_total)"
   ]
  },
  {
   "cell_type": "code",
   "execution_count": 6,
   "metadata": {},
   "outputs": [],
   "source": [
    "model1 = SINDy(name='my_test_model1')"
   ]
  },
  {
   "cell_type": "code",
   "execution_count": 15,
   "metadata": {},
   "outputs": [
    {
     "name": "stdout",
     "output_type": "stream",
     "text": [
      "cutoff value maybe too small/large to threshold ....\n"
     ]
    },
    {
     "data": {
      "text/plain": [
       "<pySINDy.sindy.SINDy at 0x10f1ab51f28>"
      ]
     },
     "execution_count": 15,
     "metadata": {},
     "output_type": "execute_result"
    }
   ],
   "source": [
    "dt = 0.1\n",
    "model1.fit(data_total, dt, poly_degree=2, cut_off=0.001)"
   ]
  },
  {
   "cell_type": "code",
   "execution_count": 16,
   "metadata": {},
   "outputs": [
    {
     "data": {
      "text/plain": [
       "['1',\n",
       " 'u0',\n",
       " 'u1',\n",
       " 'u2',\n",
       " 'u3',\n",
       " 'u0^{2}',\n",
       " 'u0u1',\n",
       " 'u1^{2}',\n",
       " 'u0u2',\n",
       " 'u1u2',\n",
       " 'u2^{2}',\n",
       " 'u0u3',\n",
       " 'u1u3',\n",
       " 'u2u3',\n",
       " 'u3^{2}']"
      ]
     },
     "execution_count": 16,
     "metadata": {},
     "output_type": "execute_result"
    }
   ],
   "source": [
    "model1.descriptions"
   ]
  },
  {
   "cell_type": "code",
   "execution_count": 17,
   "metadata": {},
   "outputs": [
    {
     "data": {
      "image/png": "[encoded data removed]",
      "text/plain": [
       "<Figure size 3200x400 with 4 Axes>"
      ]
     },
     "metadata": {},
     "output_type": "display_data"
    }
   ],
   "source": [
    "model1.plot_coefficients"
   ]
  },
  {
   "cell_type": "code",
   "execution_count": 18,
   "metadata": {
    "scrolled": false
   },
   "outputs": [
    {
     "data": {
      "text/plain": [
       "array([[ 1.95075986e-03,  1.07081140e-02,  1.43946845e-01,\n",
       "         1.85404738e-01],\n",
       "       [-1.33945647e+00, -5.11036174e+00,  1.61907177e+00,\n",
       "        -3.89883574e+00],\n",
       "       [-1.69082765e-01, -9.33641702e-01,  4.77701453e-01,\n",
       "        -1.35461645e+00],\n",
       "       [ 6.88757973e-02,  9.79602485e-01,  3.37859394e+00,\n",
       "        -1.18541451e-01],\n",
       "       [ 1.51785960e-01,  7.90055650e-01, -4.90260007e-01,\n",
       "         1.19902596e+00],\n",
       "       [ 2.09127610e+00,  1.12646178e+01, -7.40160210e+00,\n",
       "         6.16406541e+00],\n",
       "       [-6.50702036e-01,  1.89965158e+00, -4.87491266e+00,\n",
       "         4.00479597e+00],\n",
       "       [-3.74512100e-01, -7.99597117e-01, -9.99245539e-01,\n",
       "         1.14214521e+00],\n",
       "       [ 4.30908616e-02, -1.67695503e+00, -1.55441783e+00,\n",
       "         1.86536356e+00],\n",
       "       [ 7.55289586e-01,  1.51699203e-01,  5.60219869e-01,\n",
       "        -2.41363385e+00],\n",
       "       [ 5.91886926e-01, -2.68321501e-01, -3.54889131e+00,\n",
       "         7.12712419e-02],\n",
       "       [ 6.44488643e-01, -1.65821265e+00,  1.01299550e+00,\n",
       "        -8.51798892e-02],\n",
       "       [ 6.65125377e-01,  3.87885673e-01,  5.15176191e-01,\n",
       "        -1.39796697e+00],\n",
       "       [-5.85683802e-01,  1.55933736e-01, -2.42433012e-01,\n",
       "        -1.83172138e+00],\n",
       "       [-3.27744614e-01,  2.61961864e-01,  1.75329837e-01,\n",
       "        -2.10978023e-01]])"
      ]
     },
     "execution_count": 18,
     "metadata": {},
     "output_type": "execute_result"
    }
   ],
   "source": [
    "model1.coefficients"
   ]
  },
  {
   "cell_type": "code",
   "execution_count": null,
   "metadata": {},
   "outputs": [],
   "source": []
  },
  {
   "cell_type": "code",
   "execution_count": null,
   "metadata": {},
   "outputs": [],
   "source": []
  },
  {
   "cell_type": "code",
   "execution_count": null,
   "metadata": {},
   "outputs": [],
   "source": []
  }
 ],
 "metadata": {
  "kernelspec": {
   "display_name": "Python 3",
   "language": "python",
   "name": "python3"
  },
  "language_info": {
   "codemirror_mode": {
    "name": "ipython",
    "version": 3
   },
   "file_extension": ".py",
   "mimetype": "text/x-python",
   "name": "python",
   "nbconvert_exporter": "python",
   "pygments_lexer": "ipython3",
   "version": "3.7.3"
  }
 },
 "nbformat": 4,
 "nbformat_minor": 2
}
