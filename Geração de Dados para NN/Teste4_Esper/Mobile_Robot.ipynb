{
 "cells": [
  {
   "cell_type": "markdown",
   "metadata": {},
   "source": [
    "# Mobile Robot (Syndi - Matlab)"
   ]
  },
  {
   "cell_type": "markdown",
   "metadata": {},
   "source": [
    "### created by Vinicius, 16/07/2019"
   ]
  },
  {
   "cell_type": "markdown",
   "metadata": {},
   "source": [
    "##### Import modules"
   ]
  },
  {
   "cell_type": "code",
   "execution_count": 96,
   "metadata": {},
   "outputs": [],
   "source": [
    "import os\n",
    "import sys\n",
    "module_path = os.path.abspath(os.path.join('..'))\n",
    "if module_path not in sys.path:\n",
    "    sys.path.append(module_path)"
   ]
  },
  {
   "cell_type": "code",
   "execution_count": 97,
   "metadata": {},
   "outputs": [],
   "source": [
    "from pySINDy.sindy import SINDy\n",
    "import numpy as np\n",
    "import matplotlib.pyplot as plt\n",
    "import scipy.io"
   ]
  },
  {
   "cell_type": "markdown",
   "metadata": {},
   "source": [
    "##### Load data created by Matlab"
   ]
  },
  {
   "cell_type": "code",
   "execution_count": 98,
   "metadata": {},
   "outputs": [],
   "source": [
    "mat = scipy.io.loadmat('data.mat')\n",
    "datau = mat.get('ures')\n",
    "dataw = mat.get('wres')\n",
    "datauref = mat.get('urefres')\n",
    "datawref = mat.get( 'wrefres')\n",
    "dataww = mat.get('wwres')\n",
    "datauw = mat.get('uwres')"
   ]
  },
  {
   "cell_type": "code",
   "execution_count": 99,
   "metadata": {},
   "outputs": [],
   "source": [
    "data_total=np.concatenate((datau, dataw,datauref, datawref,datauw,dataww))"
   ]
  },
  {
   "cell_type": "code",
   "execution_count": 100,
   "metadata": {},
   "outputs": [
    {
     "data": {
      "text/plain": [
       "(6, 941)"
      ]
     },
     "execution_count": 100,
     "metadata": {},
     "output_type": "execute_result"
    }
   ],
   "source": [
    "np.shape(data_total)"
   ]
  },
  {
   "cell_type": "code",
   "execution_count": 101,
   "metadata": {},
   "outputs": [],
   "source": [
    "model1 = SINDy(name='my_test_model1')"
   ]
  },
  {
   "cell_type": "code",
   "execution_count": 144,
   "metadata": {},
   "outputs": [
    {
     "data": {
      "text/plain": [
       "<pySINDy.sindy.SINDy at 0x11da3f8c9b0>"
      ]
     },
     "execution_count": 144,
     "metadata": {},
     "output_type": "execute_result"
    }
   ],
   "source": [
    "dt = 0.1\n",
    "model1.fit(data_total, dt, poly_degree=2, cut_off=0.1)"
   ]
  },
  {
   "cell_type": "code",
   "execution_count": 145,
   "metadata": {},
   "outputs": [
    {
     "data": {
      "text/plain": [
       "['1',\n",
       " 'u0',\n",
       " 'u1',\n",
       " 'u2',\n",
       " 'u5',\n",
       " 'u3',\n",
       " 'u4',\n",
       " 'u3u5',\n",
       " 'u2u5',\n",
       " 'u1u5',\n",
       " 'u0u5',\n",
       " 'u4^{2}',\n",
       " 'u3u4',\n",
       " 'u2u4',\n",
       " 'u1u4',\n",
       " 'u0u4',\n",
       " 'u2u3',\n",
       " 'u4u5',\n",
       " 'u1u3',\n",
       " 'u0u3',\n",
       " 'u2^{2}',\n",
       " 'u1u2',\n",
       " 'u0u2',\n",
       " 'u1^{2}',\n",
       " 'u0u1',\n",
       " 'u0^{2}',\n",
       " 'u3^{2}',\n",
       " 'u5^{2}']"
      ]
     },
     "execution_count": 145,
     "metadata": {},
     "output_type": "execute_result"
    }
   ],
   "source": [
    "model1.descriptions"
   ]
  },
  {
   "cell_type": "code",
   "execution_count": 146,
   "metadata": {},
   "outputs": [
    {
     "data": {
      "image/png": "[encoded data removed]",
      "text/plain": [
       "<Figure size 3200x400 with 6 Axes>"
      ]
     },
     "metadata": {},
     "output_type": "display_data"
    }
   ],
   "source": [
    "model1.plot_coefficients"
   ]
  },
  {
   "cell_type": "code",
   "execution_count": 147,
   "metadata": {
    "scrolled": false
   },
   "outputs": [
    {
     "data": {
      "text/plain": [
       "array([[  0.        ,   0.        ,   0.86732396,  -0.83412789,\n",
       "          0.        ,   0.        ],\n",
       "       [  0.        ,  -4.76322249,   0.        ,  -2.9006202 ,\n",
       "          0.        ,   0.956226  ],\n",
       "       [  0.        ,   0.        ,   0.90637369,  -2.58650173,\n",
       "          0.        ,   0.        ],\n",
       "       [  0.        ,   0.81953972,   2.70389182,   1.89154211,\n",
       "          0.        ,   0.        ],\n",
       "       [  0.        ,   0.        ,   0.        ,   1.84482044,\n",
       "          0.        ,   0.        ],\n",
       "       [  0.        ,   0.        ,  -1.52834999,   2.69036363,\n",
       "          0.        ,   0.        ],\n",
       "       [ -2.86768589,   2.405767  ,   1.34366586,   0.        ,\n",
       "          0.81928353, -10.48533794],\n",
       "       [  0.        ,   3.67995103,   7.51656669,  -8.13927423,\n",
       "          0.        ,   1.38237612],\n",
       "       [  0.        ,  -1.10818725,   0.        ,  -7.72115684,\n",
       "          0.        ,   0.        ],\n",
       "       [  0.        ,  -4.15247759,  -5.9639129 ,   7.69146954,\n",
       "          0.        ,  -1.44156367],\n",
       "       [ -3.24269415,   0.        ,  -4.78585442,   9.92011933,\n",
       "          0.        ,  -3.78121946],\n",
       "       [ 40.30730675, -26.58540725,  -5.89510409, -14.75044698,\n",
       "         -8.27893398,  43.93381303],\n",
       "       [  0.        ,   1.8495878 ,  12.9634135 , -17.16542588,\n",
       "          0.        ,   4.12896458],\n",
       "       [ 13.94051478, -13.91159688, -26.66529463,  -4.79154287,\n",
       "          0.        ,   0.        ],\n",
       "       [ -3.24269415,   0.        ,  -4.78585442,   9.92011933,\n",
       "          0.        ,  -3.78121946],\n",
       "       [ -4.6552447 ,   0.        ,   4.33045113,  26.30783137,\n",
       "         -4.49431048,  46.61118076],\n",
       "       [  0.        ,   0.        ,  -1.37245494,  -2.11463977,\n",
       "          0.        ,   0.        ],\n",
       "       [ 20.82055691,   0.        , -28.95211504,   0.        ,\n",
       "         -2.96905552,  53.28240851],\n",
       "       [  0.        ,   0.        ,  -2.97095704,   0.86585843,\n",
       "          0.        ,   0.        ],\n",
       "       [  0.        ,   0.        ,   4.85885575,  -3.49383037,\n",
       "          0.        ,   0.        ],\n",
       "       [  0.        ,   0.        ,  -4.28623567,   0.        ,\n",
       "          0.        ,   0.        ],\n",
       "       [  0.        ,   1.49610849,   3.31975296,  -2.02005775,\n",
       "          0.        ,   0.        ],\n",
       "       [  0.        ,  -2.16991648,   2.15343021,  -2.85909654,\n",
       "          0.        ,   0.        ],\n",
       "       [  0.        ,   0.        ,   0.        ,   1.84482044,\n",
       "          0.        ,   0.        ],\n",
       "       [ -2.86768589,   2.405767  ,   1.34366586,   0.        ,\n",
       "          0.81928353, -10.48533794],\n",
       "       [  0.        ,  11.44843963,  -9.05836626,   9.543788  ,\n",
       "          0.        ,  -2.31723696],\n",
       "       [  0.        ,   0.        ,   0.        ,   0.        ,\n",
       "          0.        ,   0.        ],\n",
       "       [  0.        ,   0.        ,   1.93078494,  -6.0542836 ,\n",
       "          0.        ,   0.        ]])"
      ]
     },
     "execution_count": 147,
     "metadata": {},
     "output_type": "execute_result"
    }
   ],
   "source": [
    "model1.coefficients"
   ]
  },
  {
   "cell_type": "code",
   "execution_count": null,
   "metadata": {},
   "outputs": [],
   "source": []
  },
  {
   "cell_type": "code",
   "execution_count": null,
   "metadata": {},
   "outputs": [],
   "source": []
  },
  {
   "cell_type": "code",
   "execution_count": null,
   "metadata": {},
   "outputs": [],
   "source": []
  }
 ],
 "metadata": {
  "kernelspec": {
   "display_name": "Python 3",
   "language": "python",
   "name": "python3"
  },
  "language_info": {
   "codemirror_mode": {
    "name": "ipython",
    "version": 3
   },
   "file_extension": ".py",
   "mimetype": "text/x-python",
   "name": "python",
   "nbconvert_exporter": "python",
   "pygments_lexer": "ipython3",
   "version": "3.7.3"
  }
 },
 "nbformat": 4,
 "nbformat_minor": 2
}
