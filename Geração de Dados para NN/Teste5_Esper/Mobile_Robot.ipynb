{
 "cells": [
  {
   "cell_type": "markdown",
   "metadata": {},
   "source": [
    "# Mobile Robot (Syndi - Matlab)"
   ]
  },
  {
   "cell_type": "markdown",
   "metadata": {},
   "source": [
    "### created by Vinicius, 16/07/2019"
   ]
  },
  {
   "cell_type": "markdown",
   "metadata": {},
   "source": [
    "##### Import modules"
   ]
  },
  {
   "cell_type": "code",
   "execution_count": 1,
   "metadata": {},
   "outputs": [],
   "source": [
    "import os\n",
    "import sys\n",
    "module_path = os.path.abspath(os.path.join('..'))\n",
    "if module_path not in sys.path:\n",
    "    sys.path.append(module_path)"
   ]
  },
  {
   "cell_type": "code",
   "execution_count": 2,
   "metadata": {},
   "outputs": [],
   "source": [
    "from pySINDy.sindy import SINDy\n",
    "import numpy as np\n",
    "import matplotlib.pyplot as plt\n",
    "import scipy.io"
   ]
  },
  {
   "cell_type": "markdown",
   "metadata": {},
   "source": [
    "##### Load data created by Matlab"
   ]
  },
  {
   "cell_type": "code",
   "execution_count": 89,
   "metadata": {},
   "outputs": [],
   "source": [
    "mat = scipy.io.loadmat('data.mat')\n",
    "datau = mat.get('ures')\n",
    "dataw = mat.get('wres')\n",
    "datauref = mat.get('urefres')\n",
    "datawref = mat.get( 'wrefres')\n",
    "dataww = mat.get('wwres')\n",
    "datauw = mat.get('uwres')"
   ]
  },
  {
   "cell_type": "code",
   "execution_count": 90,
   "metadata": {},
   "outputs": [],
   "source": [
    "data_total=np.concatenate((datau, dataw,datauref, datawref))"
   ]
  },
  {
   "cell_type": "code",
   "execution_count": 91,
   "metadata": {},
   "outputs": [
    {
     "data": {
      "text/plain": [
       "(4, 1881)"
      ]
     },
     "execution_count": 91,
     "metadata": {},
     "output_type": "execute_result"
    }
   ],
   "source": [
    "np.shape(data_total)"
   ]
  },
  {
   "cell_type": "code",
   "execution_count": 92,
   "metadata": {},
   "outputs": [],
   "source": [
    "model1 = SINDy(name='my_test_model1')"
   ]
  },
  {
   "cell_type": "code",
   "execution_count": 108,
   "metadata": {},
   "outputs": [
    {
     "data": {
      "text/plain": [
       "<pySINDy.sindy.SINDy at 0x215f2752a90>"
      ]
     },
     "execution_count": 108,
     "metadata": {},
     "output_type": "execute_result"
    }
   ],
   "source": [
    "dt = 0.05\n",
    "model1.fit(data_total, dt, poly_degree=2, cut_off=0.01)"
   ]
  },
  {
   "cell_type": "code",
   "execution_count": 109,
   "metadata": {},
   "outputs": [
    {
     "data": {
      "text/plain": [
       "['1',\n",
       " 'u0',\n",
       " 'u1',\n",
       " 'u2',\n",
       " 'u3',\n",
       " 'u0^{2}',\n",
       " 'u0u1',\n",
       " 'u1^{2}',\n",
       " 'u0u2',\n",
       " 'u1u2',\n",
       " 'u2^{2}',\n",
       " 'u0u3',\n",
       " 'u1u3',\n",
       " 'u2u3',\n",
       " 'u3^{2}']"
      ]
     },
     "execution_count": 109,
     "metadata": {},
     "output_type": "execute_result"
    }
   ],
   "source": [
    "model1.descriptions"
   ]
  },
  {
   "cell_type": "code",
   "execution_count": 110,
   "metadata": {},
   "outputs": [
    {
     "data": {
      "image/png": "[encoded data removed]",
      "text/plain": [
       "<Figure size 3200x400 with 4 Axes>"
      ]
     },
     "metadata": {},
     "output_type": "display_data"
    }
   ],
   "source": [
    "model1.plot_coefficients"
   ]
  },
  {
   "cell_type": "code",
   "execution_count": 111,
   "metadata": {
    "scrolled": false
   },
   "outputs": [
    {
     "data": {
      "text/plain": [
       "array([[  0.24956235,   0.37204844,  -0.52962604,  -0.70700063],\n",
       "       [ -5.09044582, -10.67684791,   7.21684987,  21.71098397],\n",
       "       [  0.        ,   0.        ,  -0.09883446,  -1.27940079],\n",
       "       [ -0.91710852,  -1.92082865,   2.54768842,   0.8186919 ],\n",
       "       [  0.        ,   0.13162073,   0.        ,   1.01470857],\n",
       "       [  7.03270158,  15.9558923 , -13.08129333, -37.61611148],\n",
       "       [ -4.09211878,  -4.85543944,   8.67402521,  15.36924634],\n",
       "       [ -0.30396988,  -0.57311059,   0.72462279,   0.95691447],\n",
       "       [  3.99920673,   9.29549326,  -4.68332488, -12.15341514],\n",
       "       [  0.98970392,   0.94599229,  -2.73503577,  -8.02944103],\n",
       "       [  3.56459818,   6.03722245,  -4.95226097,  -6.53135681],\n",
       "       [ -0.77352157,  -2.165468  ,   0.77390242,   3.95965496],\n",
       "       [  0.        ,   0.1117926 ,   0.        ,   0.1603648 ],\n",
       "       [ -0.79960218,  -1.23561559,   0.81918855,  -0.93856027],\n",
       "       [ -0.07356714,   0.        ,   0.09574635,   0.06582532]])"
      ]
     },
     "execution_count": 111,
     "metadata": {},
     "output_type": "execute_result"
    }
   ],
   "source": [
    "model1.coefficients"
   ]
  },
  {
   "cell_type": "code",
   "execution_count": null,
   "metadata": {},
   "outputs": [],
   "source": []
  },
  {
   "cell_type": "code",
   "execution_count": null,
   "metadata": {},
   "outputs": [],
   "source": []
  },
  {
   "cell_type": "code",
   "execution_count": null,
   "metadata": {},
   "outputs": [],
   "source": []
  }
 ],
 "metadata": {
  "kernelspec": {
   "display_name": "Python 3",
   "language": "python",
   "name": "python3"
  },
  "language_info": {
   "codemirror_mode": {
    "name": "ipython",
    "version": 3
   },
   "file_extension": ".py",
   "mimetype": "text/x-python",
   "name": "python",
   "nbconvert_exporter": "python",
   "pygments_lexer": "ipython3",
   "version": "3.7.3"
  }
 },
 "nbformat": 4,
 "nbformat_minor": 2
}
